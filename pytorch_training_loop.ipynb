{
 "cells": [
  {
   "cell_type": "code",
   "execution_count": 10,
   "metadata": {},
   "outputs": [],
   "source": [
    "import torch\n",
    "import torch.nn as nn\n",
    "import torch.optim as optim\n",
    "from torch.utils.data import Dataset, DataLoader"
   ]
  },
  {
   "cell_type": "code",
   "execution_count": 11,
   "metadata": {},
   "outputs": [
    {
     "name": "stdout",
     "output_type": "stream",
     "text": [
      "Dataset size: 16\n",
      "First sample: (tensor([1., 1.]), tensor([2.]))\n"
     ]
    }
   ],
   "source": [
    "# Define a custom dataset\n",
    "class NumberSumDataset(Dataset):\n",
    "    def __init__(self, data_range=(1, 10)):\n",
    "        \"\"\"\n",
    "        Initialize the dataset with a range of numbers.\n",
    "        \n",
    "        Args:\n",
    "        data_range (tuple): A tuple specifying the range of numbers to use. \n",
    "                            Defaults to (1, 10), which generates numbers from 1 to 9.\n",
    "        \"\"\"\n",
    "        self.numbers = list(range(data_range[0], data_range[1]))  # Create a list of numbers in the specified range.\n",
    "\n",
    "    def __getitem__(self, index):\n",
    "        \"\"\"\n",
    "        Retrieve a specific data sample by index.\n",
    "        \n",
    "        Args:\n",
    "        index (int): The index of the sample to retrieve.\n",
    "        \n",
    "        Returns:\n",
    "        tuple: A tuple containing:\n",
    "               - A tensor with two numbers (number1, number2).\n",
    "               - A tensor with their sum as the target.\n",
    "        \"\"\"\n",
    "        # Calculate number1 by dividing the index by the length of the numbers list (floor division).\n",
    "        number1 = float(self.numbers[index // len(self.numbers)])\n",
    "        \n",
    "        # Calculate number2 by taking the remainder when the index is divided by the length of the numbers list.\n",
    "        number2 = float(self.numbers[index % len(self.numbers)])\n",
    "        \n",
    "        # Return a tuple:\n",
    "        # - A tensor containing the pair of numbers [number1, number2].\n",
    "        # - A tensor containing their sum [number1 + number2].\n",
    "        return torch.tensor([number1, number2]), torch.tensor([number1 + number2])\n",
    "\n",
    "    def __len__(self):\n",
    "        \"\"\"\n",
    "        Return the total number of samples in the dataset.\n",
    "        \n",
    "        The total number of samples is the square of the number of elements in the range,\n",
    "        since all combinations of pairs (number1, number2) are considered.\n",
    "        \n",
    "        Returns:\n",
    "        int: Total number of samples in the dataset.\n",
    "        \"\"\"\n",
    "        return len(self.numbers) ** 2  # Total combinations of number1 and number2.\n",
    "\n",
    "# Example usage\n",
    "dataset = NumberSumDataset(data_range=(1, 5))  # Dataset for numbers 1 through 4.\n",
    "print(f\"Dataset size: {len(dataset)}\")  # Should print 16 (4x4).\n",
    "print(\"First sample:\", dataset[0])  # Access the first sample."
   ]
  },
  {
   "cell_type": "code",
   "execution_count": 12,
   "metadata": {},
   "outputs": [
    {
     "name": "stdout",
     "output_type": "stream",
     "text": [
      "(tensor([1., 1.]), tensor([2.]))\n",
      "(tensor([1., 2.]), tensor([3.]))\n",
      "(tensor([1., 3.]), tensor([4.]))\n",
      "(tensor([1., 4.]), tensor([5.]))\n",
      "(tensor([1., 5.]), tensor([6.]))\n"
     ]
    }
   ],
   "source": [
    "dataset = NumberSumDataset(data_range=(1, 100))\n",
    "\n",
    "for i in range(5):\n",
    "    print(dataset[i])"
   ]
  },
  {
   "cell_type": "markdown",
   "metadata": {},
   "source": [
    "### Define a simple model "
   ]
  },
  {
   "cell_type": "code",
   "execution_count": 13,
   "metadata": {},
   "outputs": [],
   "source": [
    "class MLP(nn.Module):\n",
    "    def __init__(self, input_size):\n",
    "        super(MLP, self).__init__()\n",
    "        self.hidden_layer = nn.Linear(input_size, 128)\n",
    "        self.output_layer = nn.Linear(128, 1)\n",
    "        self.activation = nn.ReLU()\n",
    "\n",
    "    def forward(self, x):\n",
    "        x = self.activation(self.hidden_layer(x))\n",
    "        return self.output_layer(x)"
   ]
  },
  {
   "cell_type": "markdown",
   "metadata": {},
   "source": [
    "### Instantitate Componets needed for Training"
   ]
  },
  {
   "cell_type": "code",
   "execution_count": 14,
   "metadata": {},
   "outputs": [],
   "source": [
    "dataset = NumberSumDataset(data_range=(0, 100))\n",
    "dataloader = DataLoader(dataset, batch_size=100, shuffle=True)\n",
    "model = MLP(input_size=2)\n",
    "loss_function = nn.MSELoss()\n",
    "optimizer = optim.Adam(model.parameters(), lr=0.001)"
   ]
  },
  {
   "cell_type": "markdown",
   "metadata": {},
   "source": [
    "#### Create a Training Loop"
   ]
  },
  {
   "cell_type": "code",
   "execution_count": 15,
   "metadata": {},
   "outputs": [
    {
     "name": "stdout",
     "output_type": "stream",
     "text": [
      "Epoch 0: Sum of Batch Losses = 400319.61770\n",
      "Epoch 1: Sum of Batch Losses = 7226.86135\n",
      "Epoch 2: Sum of Batch Losses = 2184.78317\n",
      "Epoch 3: Sum of Batch Losses = 177.32990\n",
      "Epoch 4: Sum of Batch Losses = 11.13834\n",
      "Epoch 5: Sum of Batch Losses = 4.59844\n",
      "Epoch 6: Sum of Batch Losses = 1.34245\n",
      "Epoch 7: Sum of Batch Losses = 1.02086\n",
      "Epoch 8: Sum of Batch Losses = 0.91045\n",
      "Epoch 9: Sum of Batch Losses = 0.83761\n"
     ]
    }
   ],
   "source": [
    "for epoch in range(10):\n",
    "    total_loss = 0.0\n",
    "    for number_pairs, sums in dataloader:  # Iterate over the batches\n",
    "        predictions = model(number_pairs)  # Compute the model output\n",
    "        loss = loss_function(predictions, sums)  # Compute the loss\n",
    "        loss.backward()  # Perform backpropagation\n",
    "        optimizer.step()  # Update the parameters\n",
    "        optimizer.zero_grad()  # Zero the gradients\n",
    "\n",
    "        total_loss += loss.item()  # Add the loss for all batches\n",
    "\n",
    "    # Print the loss for this epoch\n",
    "    print(\"Epoch {}: Sum of Batch Losses = {:.5f}\".format(epoch, total_loss))"
   ]
  },
  {
   "cell_type": "code",
   "execution_count": 16,
   "metadata": {},
   "outputs": [
    {
     "data": {
      "text/plain": [
       "tensor([10.0723], grad_fn=<AddBackward0>)"
      ]
     },
     "execution_count": 16,
     "metadata": {},
     "output_type": "execute_result"
    }
   ],
   "source": [
    "# Test the model on 3 + 7\n",
    "model(torch.tensor([3.0, 7.0]))\n",
    "# tensor([10.1067], grad_fn=<AddBackward0>)"
   ]
  }
 ],
 "metadata": {
  "kernelspec": {
   "display_name": "base",
   "language": "python",
   "name": "python3"
  },
  "language_info": {
   "codemirror_mode": {
    "name": "ipython",
    "version": 3
   },
   "file_extension": ".py",
   "mimetype": "text/x-python",
   "name": "python",
   "nbconvert_exporter": "python",
   "pygments_lexer": "ipython3",
   "version": "3.11.4"
  }
 },
 "nbformat": 4,
 "nbformat_minor": 2
}
