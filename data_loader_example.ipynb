{
 "cells": [
  {
   "cell_type": "markdown",
   "metadata": {},
   "source": [
    "### A Example Data Loader"
   ]
  },
  {
   "cell_type": "code",
   "execution_count": 9,
   "metadata": {},
   "outputs": [],
   "source": [
    "\n",
    "from torch.utils.data import Dataset, DataLoader\n",
    "import pandas as pd\n",
    "\n"
   ]
  },
  {
   "cell_type": "code",
   "execution_count": 22,
   "metadata": {},
   "outputs": [],
   "source": [
    "#Custiom Datasety Class\n",
    "class NumberProductDataset(Dataset):\n",
    "    def __init__(self, csv_file):\n",
    "        #Read the CSV file intyo a pandas DataFrame\n",
    "        self.data = pd.read_csv(csv_file)\n",
    "    \n",
    "    def __getitem__(self, index):\n",
    "        # Extract number1 , number2, and product form the DataFrame\n",
    "        number1 = self.data.iloc[index, 0] # First column : number1\n",
    "        number2 = self.data.iloc[index, 1] # Second column : number2\n",
    "        product = self.data.iloc[index, 2]  # Third column : product\n",
    "        return(number1, number2), product\n",
    "    \n",
    "    def __len__(self):\n",
    "        # Return the total number of samples\n",
    "        return len(self.data)\n",
    "    "
   ]
  },
  {
   "cell_type": "code",
   "execution_count": 23,
   "metadata": {},
   "outputs": [],
   "source": [
    "# Create a sample CSV file for demonstration \n",
    "csv_data = {\n",
    "    \"number1\" : [1, 3, 5, 7, 9],\n",
    "    \"number2\" : [2, 4, 6, 8, 10],\n",
    "    \"product\" : [2, 12, 30, 56, 90]\n",
    "}"
   ]
  },
  {
   "cell_type": "code",
   "execution_count": 24,
   "metadata": {},
   "outputs": [],
   "source": [
    "csv_file = \"numbers_dataset.csv\"\n",
    "pd.DataFrame(csv_data).to_csv(csv_file, index=False)"
   ]
  },
  {
   "cell_type": "code",
   "execution_count": 25,
   "metadata": {},
   "outputs": [],
   "source": [
    "# Instantiate the dataset\n",
    "dataset = NumberProductDataset(csv_file)"
   ]
  },
  {
   "cell_type": "code",
   "execution_count": 26,
   "metadata": {},
   "outputs": [],
   "source": [
    "# Create a DataLoader for batch processing\n",
    "dataloader = DataLoader(dataset, batch_size=2, shuffle=True)"
   ]
  },
  {
   "cell_type": "code",
   "execution_count": 27,
   "metadata": {},
   "outputs": [
    {
     "name": "stdout",
     "output_type": "stream",
     "text": [
      "Batch 1\n",
      "Inputs: [tensor([3, 9]), tensor([ 4, 10])]\n",
      "Targets: tensor([12, 90])\n",
      "------------------------------\n",
      "Batch 2\n",
      "Inputs: [tensor([7, 1]), tensor([8, 2])]\n",
      "Targets: tensor([56,  2])\n",
      "------------------------------\n",
      "Batch 3\n",
      "Inputs: [tensor([5]), tensor([6])]\n",
      "Targets: tensor([30])\n",
      "------------------------------\n"
     ]
    }
   ],
   "source": [
    "# Iterate through DataLoader\n",
    "for batch_idx, (inputs, targets) in enumerate(dataloader):\n",
    "    print(f\"Batch {batch_idx + 1}\")\n",
    "    print(f\"Inputs: {inputs}\")\n",
    "    print(f\"Targets: {targets}\")\n",
    "    print(\"-\" * 30)"
   ]
  }
 ],
 "metadata": {
  "kernelspec": {
   "display_name": "base",
   "language": "python",
   "name": "python3"
  },
  "language_info": {
   "codemirror_mode": {
    "name": "ipython",
    "version": 3
   },
   "file_extension": ".py",
   "mimetype": "text/x-python",
   "name": "python",
   "nbconvert_exporter": "python",
   "pygments_lexer": "ipython3",
   "version": "3.11.4"
  }
 },
 "nbformat": 4,
 "nbformat_minor": 2
}
