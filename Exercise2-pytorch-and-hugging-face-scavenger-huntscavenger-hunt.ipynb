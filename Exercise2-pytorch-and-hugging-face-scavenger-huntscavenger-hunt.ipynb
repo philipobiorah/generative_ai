{
 "cells": [
  {
   "cell_type": "markdown",
   "metadata": {},
   "source": [
    "# Exercise: PyTorch and HuggingFace scavenger hunt!\n",
    "\n",
    "PyTorch and HuggingFace have emerged as powerful tools for developing and deploying neural networks.\n",
    "\n",
    "In this scavenger hunt, we will explore the capabilities of PyTorch and HuggingFace, uncovering hidden treasures on the way.\n",
    "\n",
    "We have two parts:\n",
    "* Familiarize yourself with PyTorch\n",
    "* Get to know HuggingFace"
   ]
  }
 ],
 "metadata": {
  "kernelspec": {
   "display_name": "base",
   "language": "python",
   "name": "python3"
  },
  "language_info": {
   "name": "python",
   "version": "3.11.4"
  }
 },
 "nbformat": 4,
 "nbformat_minor": 2
}
